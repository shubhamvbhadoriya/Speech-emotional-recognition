{
 "cells": [
  {
   "cell_type": "markdown",
   "metadata": {},
   "source": [
    "# Importing libraries"
   ]
  },
  {
   "cell_type": "code",
   "execution_count": 7,
   "metadata": {},
   "outputs": [],
   "source": [
    "import keras\n",
    "import numpy as np\n",
    "import librosa\n",
    "import warnings\n",
    "import joblib\n",
    "warnings.filterwarnings(\"ignore\")\n",
    "import tensorflow as tf\n",
    "tf.get_logger().setLevel('ERROR')"
   ]
  },
  {
   "cell_type": "markdown",
   "metadata": {},
   "source": [
    "## creating a Class to return predictions on emotions"
   ]
  },
  {
   "cell_type": "code",
   "execution_count": 21,
   "metadata": {
    "colab": {
     "base_uri": "https://localhost:8080/",
     "height": 527
    },
    "colab_type": "code",
    "id": "Yu6WYdNRRvJ_",
    "outputId": "b58d94b2-44f0-4d17-aa8f-56e67eff35d6"
   },
   "outputs": [],
   "source": [
    "class livePredictions:\n",
    "    \"\"\"\n",
    "    Main class of the application.\n",
    "    \"\"\"\n",
    "\n",
    "    def __init__(self, path, file):\n",
    "        \"\"\"\n",
    "        Init method is used to initialize the main parameters.\n",
    "        \"\"\"\n",
    "        self.path = path\n",
    "        self.file = file\n",
    "\n",
    "    def load_model(self):\n",
    "        \"\"\"\n",
    "        Method to load the chosen model.\n",
    "        :param path: path to your h5 model.\n",
    "        :return: summary of the model with the .summary() function.\n",
    "        \"\"\"\n",
    "        self.loaded_model = keras.models.load_model(self.path)\n",
    "        print(\"*\"*30)\n",
    "        print(\"loading the model\")\n",
    "        print(\"*\"*30)\n",
    "#         return self.loaded_model.summary()\n",
    "    \n",
    "    def load_audio_file(self):\n",
    "        \"\"\"\n",
    "        Method to load an audio file with given file path\n",
    "        \"\"\"\n",
    "        data, sampling_rate = librosa.load(self.file)\n",
    "        print(\"*\"*30)\n",
    "        print(\"loading the audio file\")\n",
    "        print(\"*\"*30)\n",
    "        return data, sampling_rate  \n",
    "    \n",
    "    def audio_pre_process(self):\n",
    "        \"\"\"\n",
    "        Method to perform feature extraction on an audio file\n",
    "        \"\"\"\n",
    "        temp = []\n",
    "        Signal, sampling_rate = self.load_audio_file()\n",
    "        energy = librosa.feature.rms(y=Signal)\n",
    "        temp.append(energy.mean())\n",
    "\n",
    "        zcr = librosa.feature.zero_crossing_rate(Signal)\n",
    "        temp.append(zcr.mean())\n",
    "\n",
    "        S = np.abs(librosa.stft(Signal))\n",
    "        pitches, magnitudes = librosa.piptrack(S=S)\n",
    "        temp.append(pitches.mean())\n",
    "\n",
    "        mfccs = librosa.feature.mfcc(y=Signal)\n",
    "        temp.extend(list(mfccs.mean(axis=1)))\n",
    "        temp = np.array(temp)\n",
    "        scale = joblib.load(\"scaling_object.sav\")\n",
    "        temp = scale.transform(np.array(temp).reshape(1, -1))\n",
    "        x = np.reshape(temp,(1,temp.shape[1],1))\n",
    "        print(\"*\"*30)\n",
    "        print(\"Extracting the features from the Audio file\")\n",
    "        print(\"*\"*30)\n",
    "        return x\n",
    "\n",
    "    def makepredictions(self):\n",
    "        \"\"\"\n",
    "        Method to process the files and create your features.\n",
    "        \"\"\"\n",
    "        x = self.audio_pre_process()\n",
    "        predictions = self.loaded_model.predict(x)\n",
    "        print(\"*\"*30)\n",
    "        print(\"Prediction is: \", self.convertclasstoemotion(predictions))\n",
    "        print(\"*\"*30)\n",
    "\n",
    "    @staticmethod\n",
    "    def convertclasstoemotion(pred):\n",
    "        \"\"\"\n",
    "        Method to convert the predictions (int) into human readable strings.\n",
    "        \"\"\"\n",
    "        \n",
    "        label_conversion = {'0': 'neutral',\n",
    "                            '1': 'calm',\n",
    "                            '2': 'happy',\n",
    "                            '3': 'sad',\n",
    "                            '4': 'angry',\n",
    "                            '5': 'fearful',\n",
    "                            '6': 'disgust',\n",
    "                            '7': 'surprised'}\n",
    "\n",
    "        for key, value in label_conversion.items():\n",
    "            if int(key) == np.argmax(pred,axis=-1):\n",
    "                label = value\n",
    "        return label\n"
   ]
  },
  {
   "cell_type": "code",
   "execution_count": 22,
   "metadata": {
    "colab": {},
    "colab_type": "code",
    "id": "z-UI3bEYsmVs"
   },
   "outputs": [
    {
     "name": "stdout",
     "output_type": "stream",
     "text": [
      "******************************\n",
      "loading the model\n",
      "******************************\n",
      "******************************\n",
      "loading the audio file\n",
      "******************************\n",
      "******************************\n",
      "Extracting the features from the Audio file\n",
      "******************************\n",
      "******************************\n",
      "Prediction is:  angry\n",
      "******************************\n"
     ]
    }
   ],
   "source": [
    "pred = livePredictions(path='saved_model_60-40.hdf5',file=r'TESS/OAF_back_angry.wav')\n",
    "\n",
    "pred.load_model()\n",
    "pred.makepredictions()"
   ]
  },
  {
   "cell_type": "code",
   "execution_count": null,
   "metadata": {},
   "outputs": [],
   "source": []
  },
  {
   "cell_type": "code",
   "execution_count": null,
   "metadata": {},
   "outputs": [],
   "source": []
  }
 ],
 "metadata": {
  "colab": {
   "collapsed_sections": [],
   "name": "TestingLive.ipynb",
   "provenance": []
  },
  "interpreter": {
   "hash": "aee8b7b246df8f9039afb4144a1f6fd8d2ca17a180786b69acc140d282b71a49"
  },
  "kernelspec": {
   "display_name": "Python 3.8.10 64-bit",
   "name": "python3"
  },
  "language_info": {
   "codemirror_mode": {
    "name": "ipython",
    "version": 3
   },
   "file_extension": ".py",
   "mimetype": "text/x-python",
   "name": "python",
   "nbconvert_exporter": "python",
   "pygments_lexer": "ipython3",
   "version": "3.8.10"
  }
 },
 "nbformat": 4,
 "nbformat_minor": 4
}
